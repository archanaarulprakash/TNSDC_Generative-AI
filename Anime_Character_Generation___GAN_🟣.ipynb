{
  "metadata": {
    "kernelspec": {
      "language": "python",
      "display_name": "Python 3",
      "name": "python3"
    },
    "language_info": {
      "pygments_lexer": "ipython3",
      "nbconvert_exporter": "python",
      "version": "3.6.4",
      "file_extension": ".py",
      "codemirror_mode": {
        "name": "ipython",
        "version": 3
      },
      "name": "python",
      "mimetype": "text/x-python"
    },
    "colab": {
      "name": "Anime Character Generation | GAN 🟣",
      "provenance": []
    }
  },
  "nbformat_minor": 0,
  "nbformat": 4,
  "cells": [
    {
      "source": [
        "# IMPORTANT: RUN THIS CELL IN ORDER TO IMPORT YOUR KAGGLE DATA SOURCES,\n",
        "# THEN FEEL FREE TO DELETE THIS CELL.\n",
        "# NOTE: THIS NOTEBOOK ENVIRONMENT DIFFERS FROM KAGGLE'S PYTHON\n",
        "# ENVIRONMENT SO THERE MAY BE MISSING LIBRARIES USED BY YOUR\n",
        "# NOTEBOOK.\n",
        "import kagglehub\n",
        "splcher_animefacedataset_path = kagglehub.dataset_download('splcher/animefacedataset')\n",
        "\n",
        "print('Data source import complete.')\n"
      ],
      "metadata": {
        "id": "ZqwOlkLyDWz3"
      },
      "cell_type": "code",
      "outputs": [],
      "execution_count": null
    },
    {
      "cell_type": "markdown",
      "source": [
        "## <span style=\"color: #3CA1D5;\">Importing necessary libraries</span>"
      ],
      "metadata": {
        "id": "hzoTP5kYDWz-"
      }
    },
    {
      "cell_type": "code",
      "source": [
        "import numpy as np\n",
        "import matplotlib.pyplot as plt\n",
        "\n",
        "import tensorflow as tf\n",
        "from tensorflow.keras import layers, Model"
      ],
      "metadata": {
        "id": "aSowrEBNDWz-"
      },
      "execution_count": null,
      "outputs": []
    },
    {
      "cell_type": "code",
      "source": [
        "image_size = 64\n",
        "latent_size = 128\n",
        "batch_size = 128\n",
        "epochs = 25\n",
        "lr = 0.0002"
      ],
      "metadata": {
        "execution": {
          "iopub.status.busy": "2023-10-29T09:21:17.674698Z",
          "iopub.execute_input": "2023-10-29T09:21:17.675001Z",
          "iopub.status.idle": "2023-10-29T09:21:17.680595Z",
          "shell.execute_reply.started": "2023-10-29T09:21:17.674977Z",
          "shell.execute_reply": "2023-10-29T09:21:17.679589Z"
        },
        "trusted": true,
        "id": "mK29_vIRDWz_"
      },
      "execution_count": null,
      "outputs": []
    },
    {
      "cell_type": "code",
      "source": [
        "def build_discriminator():\n",
        "    model = tf.keras.Sequential([\n",
        "        layers.Input(shape=(image_size, image_size, 3)),\n",
        "        layers.Conv2D(64, (4, 4), strides=(2, 2), padding='same', use_bias=False),\n",
        "        layers.BatchNormalization(),\n",
        "        layers.LeakyReLU(0.2),\n",
        "\n",
        "        layers.Conv2D(128, (4, 4), strides=(2, 2), padding='same', use_bias=False),\n",
        "        layers.BatchNormalization(),\n",
        "        layers.LeakyReLU(0.2),\n",
        "\n",
        "        layers.Conv2D(256, (4, 4), strides=(2, 2), padding='same', use_bias=False),\n",
        "        layers.BatchNormalization(),\n",
        "        layers.LeakyReLU(0.2),\n",
        "\n",
        "        layers.Conv2D(512, (4, 4), strides=(2, 2), padding='same', use_bias=False),\n",
        "        layers.BatchNormalization(),\n",
        "        layers.LeakyReLU(0.2),\n",
        "\n",
        "        layers.Conv2D(1, (4, 4), padding='valid', use_bias=False),\n",
        "        layers.Flatten(),\n",
        "        layers.Activation('sigmoid')\n",
        "    ])\n",
        "    return model"
      ],
      "metadata": {
        "execution": {
          "iopub.status.busy": "2023-10-29T09:21:17.69771Z",
          "iopub.execute_input": "2023-10-29T09:21:17.697974Z",
          "iopub.status.idle": "2023-10-29T09:21:17.705769Z",
          "shell.execute_reply.started": "2023-10-29T09:21:17.69795Z",
          "shell.execute_reply": "2023-10-29T09:21:17.704846Z"
        },
        "trusted": true,
        "id": "ZFKyJmrsDW0A"
      },
      "execution_count": null,
      "outputs": []
    },
    {
      "cell_type": "code",
      "source": [
        "def build_generator():\n",
        "    model = tf.keras.Sequential([\n",
        "        layers.Input(shape=(latent_size,)),\n",
        "        layers.Reshape((1, 1, latent_size)),\n",
        "\n",
        "        layers.Conv2DTranspose(512, (4, 4), strides=(1, 1), padding='valid', use_bias=False),\n",
        "        layers.BatchNormalization(),\n",
        "        layers.ReLU(),\n",
        "\n",
        "        layers.Conv2DTranspose(256, (4, 4), strides=(2, 2), padding='same', use_bias=False),\n",
        "        layers.BatchNormalization(),\n",
        "        layers.ReLU(),\n",
        "\n",
        "        layers.Conv2DTranspose(128, (4, 4), strides=(2, 2), padding='same', use_bias=False),\n",
        "        layers.BatchNormalization(),\n",
        "        layers.ReLU(),\n",
        "\n",
        "        layers.Conv2DTranspose(64, (4, 4), strides=(2, 2), padding='same', use_bias=False),\n",
        "        layers.BatchNormalization(),\n",
        "        layers.ReLU(),\n",
        "\n",
        "        layers.Conv2DTranspose(3, (4, 4), strides=(2, 2), padding='same', use_bias=False),\n",
        "        layers.Activation('tanh')\n",
        "    ])\n",
        "    return model"
      ],
      "metadata": {
        "execution": {
          "iopub.status.busy": "2023-10-29T09:21:17.71039Z",
          "iopub.execute_input": "2023-10-29T09:21:17.710674Z",
          "iopub.status.idle": "2023-10-29T09:21:17.719516Z",
          "shell.execute_reply.started": "2023-10-29T09:21:17.71065Z",
          "shell.execute_reply": "2023-10-29T09:21:17.718671Z"
        },
        "trusted": true,
        "id": "o_qjTNnvDW0B"
      },
      "execution_count": null,
      "outputs": []
    },
    {
      "cell_type": "code",
      "source": [
        "discriminator = build_discriminator()\n",
        "discriminator.summary()"
      ],
      "metadata": {
        "execution": {
          "iopub.status.busy": "2023-10-29T09:21:17.727576Z",
          "iopub.execute_input": "2023-10-29T09:21:17.728192Z",
          "iopub.status.idle": "2023-10-29T09:21:17.873249Z",
          "shell.execute_reply.started": "2023-10-29T09:21:17.728167Z",
          "shell.execute_reply": "2023-10-29T09:21:17.87239Z"
        },
        "trusted": true,
        "id": "kY-fJDCaDW0B"
      },
      "execution_count": null,
      "outputs": []
    },
    {
      "cell_type": "code",
      "source": [
        "generator = build_generator()\n",
        "generator.summary()"
      ],
      "metadata": {
        "execution": {
          "iopub.status.busy": "2023-10-29T09:21:17.87496Z",
          "iopub.execute_input": "2023-10-29T09:21:17.875393Z",
          "iopub.status.idle": "2023-10-29T09:21:18.068506Z",
          "shell.execute_reply.started": "2023-10-29T09:21:17.875343Z",
          "shell.execute_reply": "2023-10-29T09:21:18.067415Z"
        },
        "trusted": true,
        "id": "S9r6ZmVnDW0B"
      },
      "execution_count": null,
      "outputs": []
    },
    {
      "cell_type": "code",
      "source": [
        "cross_entropy = tf.keras.losses.BinaryCrossentropy()"
      ],
      "metadata": {
        "execution": {
          "iopub.status.busy": "2023-10-29T09:21:18.070627Z",
          "iopub.execute_input": "2023-10-29T09:21:18.071086Z",
          "iopub.status.idle": "2023-10-29T09:21:18.076306Z",
          "shell.execute_reply.started": "2023-10-29T09:21:18.071042Z",
          "shell.execute_reply": "2023-10-29T09:21:18.075402Z"
        },
        "trusted": true,
        "id": "P3jQ288QDW0B"
      },
      "execution_count": null,
      "outputs": []
    },
    {
      "cell_type": "code",
      "source": [
        "def discriminator_loss(real_output, fake_output):\n",
        "    real_loss = cross_entropy(tf.ones_like(real_output), real_output)\n",
        "    fake_loss = cross_entropy(tf.zeros_like(fake_output), fake_output)\n",
        "    total_loss = real_loss + fake_loss\n",
        "    return total_loss"
      ],
      "metadata": {
        "execution": {
          "iopub.status.busy": "2023-10-29T09:21:18.077502Z",
          "iopub.execute_input": "2023-10-29T09:21:18.077936Z",
          "iopub.status.idle": "2023-10-29T09:21:18.0887Z",
          "shell.execute_reply.started": "2023-10-29T09:21:18.077902Z",
          "shell.execute_reply": "2023-10-29T09:21:18.087844Z"
        },
        "trusted": true,
        "id": "iw3qJyVtDW0C"
      },
      "execution_count": null,
      "outputs": []
    },
    {
      "cell_type": "code",
      "source": [
        "def generator_loss(fake_output):\n",
        "    return cross_entropy(tf.ones_like(fake_output), fake_output)"
      ],
      "metadata": {
        "execution": {
          "iopub.status.busy": "2023-10-29T09:21:18.09124Z",
          "iopub.execute_input": "2023-10-29T09:21:18.091583Z",
          "iopub.status.idle": "2023-10-29T09:21:18.098145Z",
          "shell.execute_reply.started": "2023-10-29T09:21:18.091554Z",
          "shell.execute_reply": "2023-10-29T09:21:18.097323Z"
        },
        "trusted": true,
        "id": "41gFnox1DW0C"
      },
      "execution_count": null,
      "outputs": []
    },
    {
      "cell_type": "code",
      "source": [
        "generator_optimizer = tf.keras.optimizers.Adam(lr, beta_1=0.5)\n",
        "discriminator_optimizer = tf.keras.optimizers.Adam(lr, beta_1=0.5)"
      ],
      "metadata": {
        "execution": {
          "iopub.status.busy": "2023-10-29T09:21:18.099345Z",
          "iopub.execute_input": "2023-10-29T09:21:18.10032Z",
          "iopub.status.idle": "2023-10-29T09:21:18.109913Z",
          "shell.execute_reply.started": "2023-10-29T09:21:18.100284Z",
          "shell.execute_reply": "2023-10-29T09:21:18.109014Z"
        },
        "trusted": true,
        "id": "PfhKziAYDW0C"
      },
      "execution_count": null,
      "outputs": []
    },
    {
      "cell_type": "code",
      "source": [
        "@tf.function\n",
        "def train_step(images):\n",
        "    noise = tf.random.normal([batch_size, latent_size])\n",
        "    with tf.GradientTape() as gen_tape, tf.GradientTape() as disc_tape:\n",
        "        generated_images = generator(noise, training=True)\n",
        "        real_output = discriminator(images, training=True)\n",
        "        fake_output = discriminator(generated_images, training=True)\n",
        "\n",
        "        gen_loss = generator_loss(fake_output)\n",
        "        disc_loss = discriminator_loss(real_output, fake_output)\n",
        "\n",
        "    gradients_of_generator = gen_tape.gradient(gen_loss, generator.trainable_variables)\n",
        "    gradients_of_discriminator = disc_tape.gradient(disc_loss, discriminator.trainable_variables)\n",
        "\n",
        "    generator_optimizer.apply_gradients(zip(gradients_of_generator, generator.trainable_variables))\n",
        "    discriminator_optimizer.apply_gradients(zip(gradients_of_discriminator, discriminator.trainable_variables))"
      ],
      "metadata": {
        "execution": {
          "iopub.status.busy": "2023-10-29T09:21:18.111315Z",
          "iopub.execute_input": "2023-10-29T09:21:18.111654Z",
          "iopub.status.idle": "2023-10-29T09:21:18.121415Z",
          "shell.execute_reply.started": "2023-10-29T09:21:18.111623Z",
          "shell.execute_reply": "2023-10-29T09:21:18.120408Z"
        },
        "trusted": true,
        "id": "Zet8YJxeDW0C"
      },
      "execution_count": null,
      "outputs": []
    },
    {
      "cell_type": "code",
      "source": [
        "data_dir = '../input/animefacedataset/'"
      ],
      "metadata": {
        "id": "397iwtx8DW0D"
      },
      "execution_count": null,
      "outputs": []
    },
    {
      "cell_type": "code",
      "source": [
        "train_dataset = tf.keras.utils.image_dataset_from_directory(\n",
        "    data_dir,\n",
        "    image_size=(image_size, image_size),\n",
        "    batch_size=batch_size,\n",
        "    label_mode=None\n",
        ")\n",
        "train_dataset = train_dataset.map(lambda x: (x - 127.5) / 127.5)"
      ],
      "metadata": {
        "execution": {
          "iopub.status.busy": "2023-10-29T09:21:18.122612Z",
          "iopub.execute_input": "2023-10-29T09:21:18.12308Z",
          "iopub.status.idle": "2023-10-29T09:21:43.847564Z",
          "shell.execute_reply.started": "2023-10-29T09:21:18.12305Z",
          "shell.execute_reply": "2023-10-29T09:21:43.846608Z"
        },
        "trusted": true,
        "id": "3FvT6wBLDW0D"
      },
      "execution_count": null,
      "outputs": []
    },
    {
      "cell_type": "code",
      "source": [
        "for epoch in range(epochs):\n",
        "    for image_batch in train_dataset:\n",
        "        train_step(image_batch)"
      ],
      "metadata": {
        "execution": {
          "iopub.status.busy": "2023-10-29T09:21:43.848751Z",
          "iopub.execute_input": "2023-10-29T09:21:43.849027Z"
        },
        "trusted": true,
        "id": "eGtkDGIrDW0D"
      },
      "execution_count": null,
      "outputs": []
    },
    {
      "cell_type": "code",
      "source": [
        "num_samples = 9\n",
        "sample_noise = tf.random.normal([num_samples, latent_size])\n",
        "sample_images = generator(sample_noise)\n",
        "sample_images = 0.5 * sample_images + 0.5  # Denormalize\n",
        "sample_images = np.clip(sample_images, 0, 1)  # Clip values to [0, 1]"
      ],
      "metadata": {
        "trusted": true,
        "id": "H1RwNKbUDW0D"
      },
      "execution_count": null,
      "outputs": []
    },
    {
      "cell_type": "code",
      "source": [
        "fig, axs = plt.subplots(3, 3, figsize=(8, 8))\n",
        "for i in range(num_samples):\n",
        "    axs[i // 3, i % 3].imshow(sample_images[i])\n",
        "    axs[i // 3, i % 3].axis('off')\n",
        "plt.show()"
      ],
      "metadata": {
        "trusted": true,
        "id": "zU59CnlQDW0E"
      },
      "execution_count": null,
      "outputs": []
    }
  ]
}